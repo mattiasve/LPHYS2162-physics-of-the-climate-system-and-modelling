{
 "cells": [
  {
   "cell_type": "markdown",
   "metadata": {},
   "source": [
    "# AMOC modelling "
   ]
  },
  {
   "cell_type": "code",
   "execution_count": null,
   "metadata": {},
   "outputs": [],
   "source": [
    "import numpy as np\n",
    "import matplotlib.pyplot as plt\n",
    "from numpy.random import normal, randn"
   ]
  },
  {
   "cell_type": "markdown",
   "metadata": {},
   "source": [
    "## Part 1 : Consider F(t)=F=constant and study the multistability of the model\n",
    "### 1.1 : Take F=3.24 m year-1. Show graphically that the system is bistable.\n",
    "This is equivalent to solving $\\frac{d\\Delta S}{dt} = 0$ and see when the line crosses $x=0$\n"
   ]
  },
  {
   "cell_type": "code",
   "execution_count": null,
   "metadata": {},
   "outputs": [],
   "source": [
    "### define all constants ###\n",
    "H  = 4500           # [m]\n",
    "S0 = 35             # [psu]\n",
    "tho_d = 219         # [years]\n",
    "L = 8250e3\n",
    "sigmaw = 300e3\n",
    "V = L*H*sigmaw      # [m^3]\n",
    "q = 3.27e19         # [m^3 years^-1]\n",
    "alpha_s = 0.75e-3   # [psu^-1]\n",
    "alpha_t = 0.17e-3   # [°C^-1]\n",
    "theta = 20          # [°C]\n",
    "\n",
    "### code for 1.1 ###\n",
    "F = 3.24  # [m year^-1]\n",
    "\n",
    "# array of values of Delta S to to compute d Delta S / dt\n",
    "DeltaS_val = np.arange(0, 6, 0.1)\n",
    "\n",
    "# compute using the right-hand side of the equation\n",
    "DS = (F*S0/H) - (DeltaS_val/tho_d) - (q*DeltaS_val*(alpha_s*DeltaS_val - alpha_t*theta)**2)/V\n"
   ]
  },
  {
   "cell_type": "code",
   "execution_count": null,
   "metadata": {},
   "outputs": [],
   "source": [
    "plt.figure()\n",
    "plt.plot(DeltaS_val,DS)\n",
    "plt.xlabel('$\\Delta S$')\n",
    "plt.ylabel('$d \\Delta S/dt$')\n",
    "plt.axhline(0, c='k', ls='--')\n",
    "plt.show()\n"
   ]
  },
  {
   "cell_type": "code",
   "execution_count": null,
   "metadata": {},
   "outputs": [],
   "source": [
    "V = - np.cumsum(DS)*0.1\n",
    "plt.figure()\n",
    "plt.ylabel('V')\n",
    "plt.xlabel('$ \\Delta S$')\n",
    "plt.plot(DeltaS_val, V)\n",
    "plt.show()"
   ]
  },
  {
   "cell_type": "markdown",
   "metadata": {},
   "source": [
    "### 1.2 : Cessi proposes F=2.3 m year-1. Is the system bistable in this case? Estimate numerically the critical value of F at which the system changes the number of stable solutions"
   ]
  },
  {
   "cell_type": "code",
   "execution_count": null,
   "metadata": {},
   "outputs": [],
   "source": [
    "Fvals = np.arange(2.3, 3.5, 0.1)\n",
    "all_DS = np.zeros((len(DeltaS_val), len(Fvals)))\n",
    "print(all_DS)\n",
    "for i in range(len(Fvals)):\n",
    "    all_DS[:,i] = (Fvals[i]*S0/H) - (DeltaS_val/tho_d) - (q*DeltaS_val*(alpha_s*DeltaS_val - alpha_t*theta)**2)/V\n",
    "print(all_DS)\n",
    "\n",
    "f = plt.figure()\n",
    "plt.plot(DeltaS_val, all_DS)\n",
    "plt.axhline(0, c='k', ls='--')\n",
    "plt.xlabel('$\\Delta S$')\n",
    "plt.ylabel('$d \\Delta S/dt$')\n",
    "f.legend([str(round(F,2)) for F in Fvals])\n",
    "plt.show()"
   ]
  },
  {
   "cell_type": "code",
   "execution_count": null,
   "metadata": {},
   "outputs": [],
   "source": [
    "flag = True\n",
    "F = 2.3\n",
    "\n",
    "while (flag):\n",
    "    DeltaS_values = np.arange(0, 6, 0.001)\n",
    "    DS = (F/H)*S0 - (DeltaS_values/tho_d) - (q*DeltaS_values*(alpha_s*DeltaS_values - alpha_t*theta)**2)/V\n",
    "    Number = (np.diff(np.sign(DS)) != 0).sum()\n",
    "    \n",
    "    if(Number > 1):\n",
    "        flag = False\n",
    "    F += 0.0001\n",
    "print(\"for F = {}, we cross 0 : {} times\".format(round(F,10), Number))\n",
    "\n",
    "\n",
    "threshold_DS = (F*S0/H) - (DeltaS_val/tho_d) - (q*DeltaS_val*(alpha_s*DeltaS_val - alpha_t*theta)**2)/V\n",
    "\n",
    "plt.figure()\n",
    "plt.plot(DeltaS_val, threshold_DS)\n",
    "plt.axhline(0, c='k', ls='--')\n",
    "plt.xlabel('$\\Delta S$')\n",
    "plt.ylabel('$d \\Delta S/dt$')\n",
    "plt.show()"
   ]
  },
  {
   "cell_type": "markdown",
   "metadata": {},
   "source": [
    "### 1.3 Write a code to integrate in time the equation and show plots of time series of the solutions to support what you found in points 1 and 2. You can take a timestep of 1 year."
   ]
  },
  {
   "cell_type": "code",
   "execution_count": null,
   "metadata": {},
   "outputs": [],
   "source": [
    "# Forward-Euler for d(DeltaS)/dt\n",
    "T   = 1000\n",
    "dt  = 1\n",
    "DS0 = 0.1\n",
    "init_vals = np.arange(0, 6, 0.5)\n",
    "\n",
    "Flow = 2.3\n",
    "Fup  = 3.4\n",
    "Fthr = 2.5649\n",
    "\n",
    "# -- Try with one stable solution : Flow\n",
    "int_DS = np.zeros((T, len(init_vals)))\n",
    "int_DS[0,:] = init_vals\n",
    "\n",
    "for n in range(len(init_vals)):\n",
    "    for i in range(1,T):\n",
    "        rhs = (Flow*S0/H) - (int_DS[i-1,n]/tho_d) - (q*int_DS[i-1,n]*(alpha_s*int_DS[i-1,n] - alpha_t*theta)**2)/V\n",
    "        int_DS[i,n] = int_DS[i-1,n] + rhs*dt\n",
    "\n",
    "f = plt.figure()\n",
    "plt.plot(np.arange(0,T,1) ,int_DS)\n",
    "plt.xlabel('Time [years]')\n",
    "plt.ylabel('$\\Delta S$')\n",
    "f.legend([str(round(init,2)) for init in init_vals])\n",
    "plt.show()\n",
    "\n",
    "# -- Try with various stable solution : Fup\n",
    "int_DS = np.zeros((T, len(init_vals)))\n",
    "int_DS[0,:] = init_vals\n",
    "\n",
    "for n in range(len(init_vals)):\n",
    "    for i in range(1,T):\n",
    "        rhs = (Fup*S0/H) - (int_DS[i-1,n]/tho_d) - (q*int_DS[i-1,n]*(alpha_s*int_DS[i-1,n] - alpha_t*theta)**2)/V\n",
    "        int_DS[i,n] = int_DS[i-1,n] + rhs*dt\n",
    "\n",
    "f = plt.figure()\n",
    "plt.plot(np.arange(0,T,1) ,int_DS)\n",
    "plt.xlabel('Time [years]')\n",
    "plt.ylabel('$\\Delta S$')\n",
    "f.legend([str(round(init,2)) for init in init_vals])\n",
    "plt.show()\n",
    "\n",
    "# -- Try with critical case : Fthreshold\n",
    "int_DS = np.zeros((T, len(init_vals)))\n",
    "int_DS[0,:] = init_vals\n",
    "\n",
    "for n in range(len(init_vals)):\n",
    "    for i in range(1,T):\n",
    "        rhs = (Fthr*S0/H) - (int_DS[i-1,n]/tho_d) - (q*int_DS[i-1,n]*(alpha_s*int_DS[i-1,n] - alpha_t*theta)**2)/V\n",
    "        int_DS[i,n] = int_DS[i-1,n] + rhs*dt\n",
    "\n",
    "f = plt.figure()\n",
    "plt.plot(np.arange(0,T,1) ,int_DS)\n",
    "plt.xlabel('Time [years]')\n",
    "plt.ylabel('$\\Delta S$')\n",
    "f.legend([str(round(init,2)) for init in init_vals])\n",
    "plt.show()"
   ]
  },
  {
   "cell_type": "markdown",
   "metadata": {},
   "source": [
    "## Part 2 : Consider F(t) as a stochastic forcing and study the multistability\n",
    "\n",
    "### 2.1 Take F=3.24 m year-1 and plot the potential of the model"
   ]
  }
 ],
 "metadata": {
  "kernelspec": {
   "display_name": "datasc",
   "language": "python",
   "name": "datasc"
  },
  "language_info": {
   "codemirror_mode": {
    "name": "ipython",
    "version": 3
   },
   "file_extension": ".py",
   "mimetype": "text/x-python",
   "name": "python",
   "nbconvert_exporter": "python",
   "pygments_lexer": "ipython3",
   "version": "3.9.13"
  }
 },
 "nbformat": 4,
 "nbformat_minor": 2
}
